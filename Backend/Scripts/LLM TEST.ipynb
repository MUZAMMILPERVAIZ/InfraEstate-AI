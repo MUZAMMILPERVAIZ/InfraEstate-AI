{
 "cells": [
  {
   "cell_type": "code",
   "id": "initial_id",
   "metadata": {
    "collapsed": true,
    "ExecuteTime": {
     "end_time": "2025-04-28T14:23:51.545116Z",
     "start_time": "2025-04-28T14:23:51.535343Z"
    }
   },
   "source": "import os",
   "outputs": [],
   "execution_count": 1
  },
  {
   "metadata": {
    "ExecuteTime": {
     "end_time": "2025-04-28T14:24:44.150943Z",
     "start_time": "2025-04-28T14:24:44.129835Z"
    }
   },
   "cell_type": "code",
   "source": [
    "from dotenv import load_dotenv\n",
    "\n",
    "load_dotenv()\n"
   ],
   "id": "b6a67a9b3165f3d3",
   "outputs": [
    {
     "data": {
      "text/plain": [
       "True"
      ]
     },
     "execution_count": 4,
     "metadata": {},
     "output_type": "execute_result"
    }
   ],
   "execution_count": 4
  },
  {
   "metadata": {
    "ExecuteTime": {
     "end_time": "2025-04-28T14:24:49.873271Z",
     "start_time": "2025-04-28T14:24:49.867517Z"
    }
   },
   "cell_type": "code",
   "source": [
    "os.environ['AWS_ACCESS_KEY_ID'] = os.getenv('access_key')\n",
    "os.environ['AWS_SECRET_ACCESS_KEY'] = os.getenv('access_secret')\n",
    "os.environ['AWS_DEFAULT_REGION'] = os.getenv('region_name')\n"
   ],
   "id": "30a939cfeaca3c38",
   "outputs": [],
   "execution_count": 5
  },
  {
   "metadata": {
    "ExecuteTime": {
     "end_time": "2025-04-28T14:24:55.251313Z",
     "start_time": "2025-04-28T14:24:54.943849Z"
    }
   },
   "cell_type": "code",
   "source": [
    "\n",
    "import boto3\n",
    "\n",
    "bedrock_client = boto3.client(\n",
    "    service_name='bedrock-runtime',\n",
    "    region_name='us-east-1',\n",
    "    aws_access_key_id=os.getenv('access_key'),\n",
    "    aws_secret_access_key=os.getenv('access_secret')\n",
    ")\n"
   ],
   "id": "20ef8ed3cd06521b",
   "outputs": [],
   "execution_count": 6
  },
  {
   "metadata": {
    "ExecuteTime": {
     "end_time": "2025-04-28T14:24:58.902974Z",
     "start_time": "2025-04-28T14:24:56.892437Z"
    }
   },
   "cell_type": "code",
   "source": [
    "from langchain_aws import BedrockEmbeddings, ChatBedrock\n",
    "\n",
    "bedrock_embeddings = BedrockEmbeddings(\n",
    "    model_id=\"amazon.titan-embed-text-v2:0\",\n",
    "    region_name=\"us-east-1\",\n",
    "    client=bedrock_client\n",
    ")\n",
    "\n",
    "llm = ChatBedrock(\n",
    "    model_id=\"us.anthropic.claude-3-5-sonnet-20241022-v2:0\",\n",
    "    # model_id=\"us.anthropic.claude-3-7-sonnet-20250219-v1:0\",\n",
    "    model_kwargs={\"temperature\": 0.5},\n",
    "    client=bedrock_client\n",
    ")\n",
    "\n",
    "\n",
    "def call_bedrock(prompt):\n",
    "    response = llm.invoke(prompt)\n",
    "    # content = response.get('content')\n",
    "    return response.content\n"
   ],
   "id": "c6124cec7c59ae23",
   "outputs": [],
   "execution_count": 7
  },
  {
   "metadata": {
    "ExecuteTime": {
     "end_time": "2025-04-28T14:25:06.841116Z",
     "start_time": "2025-04-28T14:25:04.343745Z"
    }
   },
   "cell_type": "code",
   "source": "call_bedrock(\"Hello, how are you?\")",
   "id": "ab37f2583556138f",
   "outputs": [
    {
     "data": {
      "text/plain": [
       "\"I'm doing well, thank you! How are you today?\""
      ]
     },
     "execution_count": 8,
     "metadata": {},
     "output_type": "execute_result"
    }
   ],
   "execution_count": 8
  },
  {
   "metadata": {
    "ExecuteTime": {
     "end_time": "2025-04-29T04:48:41.001652Z",
     "start_time": "2025-04-29T04:48:40.980945Z"
    }
   },
   "cell_type": "code",
   "source": [
    "from langchain_community.document_loaders.mongodb import MongodbLoader\n",
    "import nest_asyncio\n",
    "\n",
    "nest_asyncio.apply()\n",
    "\n",
    "# Initialize the MongoDB loader\n",
    "loader = MongodbLoader(\n",
    "    connection_string=\"mongodb://localhost:27017/\",\n",
    "    db_name=\"infra_estate_ai\",\n",
    "    collection_name=\"properties\",\n",
    "    # field_names=[\"location\", \"city\", \"price\", \"size\", \"bedrooms\", \"baths\", \"year\", \"type\"]\n",
    ")\n",
    "\n",
    "# Load documents\n",
    "documents = loader.load()\n"
   ],
   "id": "fc281196e4f7f4ab",
   "outputs": [],
   "execution_count": 4
  },
  {
   "metadata": {
    "ExecuteTime": {
     "end_time": "2025-04-29T04:48:41.559668Z",
     "start_time": "2025-04-29T04:48:41.551827Z"
    }
   },
   "cell_type": "code",
   "source": "documents",
   "id": "9ece070f41f48c99",
   "outputs": [
    {
     "data": {
      "text/plain": [
       "[Document(metadata={'database': 'infra_estate_ai', 'collection': 'properties'}, page_content=\"{'_id': ObjectId('673f4c445bdb9f137301a7cc'), 'location': 'Chaman Park', 'city': 'Lahore', 'price': 40000000, 'size': 11, 'bedrooms': 6, 'baths': 3, 'year': 2019, 'type': 'residential', 'image_link': 'images/e9683ac1-4ed6-42e8-a3a6-28fda0c4b585_house.jpg', 'owner_email': 'muzammilpervaiz45@gmail.com', 'created_at': datetime.datetime(2024, 11, 21, 20, 5, 40, 51000)}\"),\n",
       " Document(metadata={'database': 'infra_estate_ai', 'collection': 'properties'}, page_content=\"{'_id': ObjectId('673f4c6f5bdb9f137301a7cd'), 'location': 'Gulshan-e-Iqbal', 'city': 'Rawalpindi', 'price': 5300000, 'size': 5, 'bedrooms': 2, 'baths': 3, 'year': 2019, 'type': 'residential', 'image_link': 'images/40b97af8-cdb2-4a81-af22-bb38ed751556_house.jpg', 'owner_email': 'muzammilpervaiz45@gmail.com', 'created_at': datetime.datetime(2024, 11, 21, 20, 6, 23, 835000)}\"),\n",
       " Document(metadata={'database': 'infra_estate_ai', 'collection': 'properties'}, page_content=\"{'_id': ObjectId('673f4c9a5bdb9f137301a7ce'), 'location': 'F-10', 'city': 'Islamabad', 'price': 190000, 'size': 20, 'bedrooms': 6, 'baths': 6, 'year': 2019, 'type': 'residential', 'image_link': 'images/f3061681-6cde-44ec-8030-8916a6e18f6c_house.jpg', 'owner_email': 'muzammilpervaiz45@gmail.com', 'created_at': datetime.datetime(2024, 11, 21, 20, 7, 6, 625000)}\"),\n",
       " Document(metadata={'database': 'infra_estate_ai', 'collection': 'properties'}, page_content=\"{'_id': ObjectId('673f4cc95bdb9f137301a7cf'), 'location': 'DHA Defence', 'city': 'Lahore', 'price': 21500000, 'size': 10, 'bedrooms': 4, 'baths': 5, 'year': 2019, 'type': 'residential', 'image_link': 'images/71356061-5200-4d0f-8f3f-182f3b21ba3d_house.jpg', 'owner_email': 'muzammilpervaiz45@gmail.com', 'created_at': datetime.datetime(2024, 11, 21, 20, 7, 53, 673000)}\"),\n",
       " Document(metadata={'database': 'infra_estate_ai', 'collection': 'properties'}, page_content=\"{'_id': ObjectId('673f4d015bdb9f137301a7d0'), 'location': 'DHA Defence', 'city': 'Lahore', 'price': 66000000, 'size': 40, 'bedrooms': 6, 'baths': 6, 'year': 2019, 'type': 'residential', 'image_link': 'images/d6751230-6c64-465f-be1d-e2e7292e32dc_house.jpg', 'owner_email': 'muzammilpervaiz45@gmail.com', 'created_at': datetime.datetime(2024, 11, 21, 20, 8, 49, 760000)}\"),\n",
       " Document(metadata={'database': 'infra_estate_ai', 'collection': 'properties'}, page_content=\"{'_id': ObjectId('673f4d215bdb9f137301a7d1'), 'location': 'Cantt', 'city': 'Karachi', 'price': 85000000, 'size': 220, 'bedrooms': 6, 'baths': 6, 'year': 2019, 'type': 'residential', 'image_link': 'images/a400c33f-6c92-44e4-98e1-ecad1a38f7bb_house.jpg', 'owner_email': 'muzammilpervaiz45@gmail.com', 'created_at': datetime.datetime(2024, 11, 21, 20, 9, 21, 601000)}\"),\n",
       " Document(metadata={'database': 'infra_estate_ai', 'collection': 'properties'}, page_content=\"{'_id': ObjectId('673f4d465bdb9f137301a7d2'), 'location': 'F-7', 'city': 'Islamabad', 'price': 105000000, 'size': 260.0, 'bedrooms': 5, 'baths': 5, 'year': 2020, 'type': 'residential', 'image_link': 'images/a25b226b-aa5a-43ff-82b9-04c80bcb107e_house.jpg', 'owner_email': 'muzammilpervaiz45@gmail.com', 'created_at': datetime.datetime(2024, 11, 21, 20, 9, 58, 335000)}\"),\n",
       " Document(metadata={'database': 'infra_estate_ai', 'collection': 'properties'}, page_content=\"{'_id': ObjectId('678de8eb1259fa4c02f85c6c'), 'location': 'DHA Defence', 'city': 'Islamabad', 'price': 13500000, 'size': 10.0, 'bedrooms': 3, 'baths': 5, 'year': 2019, 'type': 'residential', 'image_link': 'images/d4e89015-6565-4d85-a05c-3dbe83086c6a_house.jpeg', 'owner_email': 'muzammilpervaiz45@gmail.com', 'created_at': datetime.datetime(2025, 1, 20, 11, 10, 51, 699000)}\"),\n",
       " Document(metadata={'database': 'infra_estate_ai', 'collection': 'properties'}, page_content=\"{'_id': ObjectId('678df4a5064c58f74fe2c6e1'), 'location': 'G-10', 'city': 'Islamabad', 'price': 10000000, 'size': 4.0, 'bedrooms': 2, 'baths': 2, 'year': 2019, 'type': 'residential', 'image_link': 'images/106a5f6f-6f7a-455c-aa67-dfb82ff0b2d3_images.jpeg', 'owner_email': 'muzammilpervaiz45@gmail.com', 'created_at': datetime.datetime(2025, 1, 20, 12, 0, 53, 578000)}\"),\n",
       " Document(metadata={'database': 'infra_estate_ai', 'collection': 'properties'}, page_content=\"{'_id': ObjectId('678e01a0a51cde280fc309d0'), 'location': 'Madni Colony, Attock', 'city': 'Attock', 'price': 26500000, 'size': 2722.0, 'bedrooms': 5, 'baths': 6, 'year': 2023, 'type': 'residential', 'image_link': 'images/87c48805-8f79-4fed-9543-06bd847f0b04_images.jpeg', 'owner_email': 'muzammilpervaiz45@gmail.com', 'created_at': datetime.datetime(2025, 1, 20, 12, 56, 16, 481000)}\")]"
      ]
     },
     "execution_count": 5,
     "metadata": {},
     "output_type": "execute_result"
    }
   ],
   "execution_count": 5
  },
  {
   "metadata": {},
   "cell_type": "code",
   "outputs": [],
   "execution_count": null,
   "source": "",
   "id": "1136d6f7c6abf927"
  }
 ],
 "metadata": {
  "kernelspec": {
   "display_name": "Python 3",
   "language": "python",
   "name": "python3"
  },
  "language_info": {
   "codemirror_mode": {
    "name": "ipython",
    "version": 2
   },
   "file_extension": ".py",
   "mimetype": "text/x-python",
   "name": "python",
   "nbconvert_exporter": "python",
   "pygments_lexer": "ipython2",
   "version": "2.7.6"
  }
 },
 "nbformat": 4,
 "nbformat_minor": 5
}
